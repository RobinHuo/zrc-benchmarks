{
 "cells": [
  {
   "cell_type": "markdown",
   "metadata": {
    "collapsed": false,
    "pycharm": {
     "name": "#%% md\n"
    }
   },
   "source": [
    "# sLM21 Python interface example\n",
    "\n",
    "Various examples on how to run sLM21 benchmark using the python interface."
   ]
  },
  {
   "cell_type": "markdown",
   "metadata": {
    "collapsed": false,
    "pycharm": {
     "name": "#%% md\n"
    }
   },
   "source": [
    "Run all sLM21 tasks"
   ]
  },
  {
   "cell_type": "code",
   "execution_count": 4,
   "metadata": {
    "collapsed": false,
    "pycharm": {
     "name": "#%%\n"
    }
   },
   "outputs": [
    {
     "name": "stdout",
     "output_type": "stream",
     "text": [
      "env: APP_DIR=test_data\n"
     ]
    }
   ],
   "source": [
    "%env APP_DIR=/data/zerospeech/zrbench\n",
    "from pathlib import Path\n",
    "from zerospeech.benchmarks.sLM_21 import SLM21Benchmark, SLM21Submission\n",
    "\n",
    "submission = SLM21Submission.load(Path(\"test_data/samples/sLM21-random-submission\"), sets=('dev',))\n",
    "# todo: submission.is_valid()\n",
    "benchmark = SLM21Benchmark()\n",
    "benchmark.run(submission)"
   ]
  },
  {
   "cell_type": "markdown",
   "metadata": {
    "collapsed": false,
    "pycharm": {
     "name": "#%% md\n"
    }
   },
   "source": [
    "Lexical evaluation on a submission"
   ]
  },
  {
   "cell_type": "code",
   "execution_count": 1,
   "metadata": {
    "collapsed": false,
    "pycharm": {
     "name": "#%%\n"
    }
   },
   "outputs": [
    {
     "name": "stdout",
     "output_type": "stream",
     "text": [
      "env: APP_DIR=test_data\n"
     ]
    }
   ],
   "source": [
    "%env APP_DIR=/data/zerospeech/zrbench\n",
    "from pathlib import Path\n",
    "from zerospeech.benchmarks.sLM_21 import SLM21Benchmark, SLM21Submission\n",
    "\n",
    "submission = SLM21Submission.load(Path(\"test_data/samples/sLM21-random-submission\"), tasks=('lexical',), sets=('dev',))\n",
    "submission\n",
    "# todo: submission.is_valid()\n",
    "benchmark = SLM21Benchmark()\n",
    "benchmark.run(submission)"
   ]
  },
  {
   "cell_type": "markdown",
   "metadata": {
    "collapsed": false,
    "pycharm": {
     "name": "#%% md\n"
    }
   },
   "source": [
    "Semantic evaluation on a submission"
   ]
  },
  {
   "cell_type": "code",
   "execution_count": 1,
   "metadata": {
    "collapsed": false,
    "pycharm": {
     "name": "#%%\n"
    }
   },
   "outputs": [
    {
     "name": "stdout",
     "output_type": "stream",
     "text": [
      "env: APP_DIR=test_data\n"
     ]
    }
   ],
   "source": [
    "%env APP_DIR=/data/zerospeech/zrbench\n",
    "from pathlib import Path\n",
    "from zerospeech.benchmarks.sLM_21 import SLM21Benchmark, SLM21Submission\n",
    "\n",
    "submission = SLM21Submission.load(Path(\"test_data/samples/sLM21-random-submission\"), tasks=('semantic',), sets=('dev',))\n",
    "# todo: submission.is_valid()\n",
    "benchmark = SLM21Benchmark()\n",
    "benchmark.run(submission)"
   ]
  },
  {
   "cell_type": "markdown",
   "metadata": {
    "collapsed": false,
    "pycharm": {
     "name": "#%% md\n"
    }
   },
   "source": [
    "Syntactic evaluation on a submission"
   ]
  },
  {
   "cell_type": "code",
   "execution_count": null,
   "metadata": {
    "collapsed": false,
    "pycharm": {
     "name": "#%%\n"
    }
   },
   "outputs": [],
   "source": [
    "%env APP_DIR=/data/zerospeech/zrbench\n",
    "from pathlib import Path\n",
    "from zerospeech.benchmarks.sLM_21 import SLM21Benchmark, SLM21Submission\n",
    "\n",
    "submission = SLM21Submission.load(Path(\"test_data/samples/sLM21-random-submission\"), tasks=('syntactic',), sets=('dev',))\n",
    "# todo: submission.is_valid()\n",
    "benchmark = SLM21Benchmark()\n",
    "benchmark.run(submission)"
   ]
  }
 ],
 "metadata": {
  "kernelspec": {
   "display_name": "Python 3",
   "language": "python",
   "name": "python3"
  },
  "language_info": {
   "codemirror_mode": {
    "name": "ipython",
    "version": 2
   },
   "file_extension": ".py",
   "mimetype": "text/x-python",
   "name": "python",
   "nbconvert_exporter": "python",
   "pygments_lexer": "ipython2",
   "version": "2.7.6"
  }
 },
 "nbformat": 4,
 "nbformat_minor": 0
}
