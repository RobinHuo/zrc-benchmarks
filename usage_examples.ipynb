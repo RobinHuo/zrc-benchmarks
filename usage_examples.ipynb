{
 "cells": [
  {
   "cell_type": "markdown",
   "source": [
    "# sLM21 Python interface example\n",
    "\n",
    "Various examples on how to run sLM21 benchmark using the python interface."
   ],
   "metadata": {
    "collapsed": false,
    "pycharm": {
     "name": "#%% md\n"
    }
   }
  },
  {
   "cell_type": "markdown",
   "source": [
    "Run all sLM21 tasks"
   ],
   "metadata": {
    "collapsed": false,
    "pycharm": {
     "name": "#%% md\n"
    }
   }
  },
  {
   "cell_type": "code",
   "execution_count": null,
   "outputs": [],
   "source": [
    "%env APP_DIR=test_data\n",
    "%env APP_DIR=test_data\n",
    "from pathlib import Path\n",
    "from zerospeech.benchmarks.sLM_21 import SLM21Benchmark, SLM21Submission\n",
    "\n",
    "submission = SLM21Submission.load(Path(\"test_data/samples/sLM21-random-submission\"), tasks=('lexical',))\n",
    "# todo: submission.is_valid()\n",
    "submission.score_dir.mkdir(exist_ok=True)\n",
    "benchmark = SLM21Benchmark()\n",
    "# benchmark.load_tasks(...)\n",
    "benchmark.run(submission)"
   ],
   "metadata": {
    "collapsed": false,
    "pycharm": {
     "name": "#%%\n"
    }
   }
  },
  {
   "cell_type": "markdown",
   "source": [
    "Lexical evaluation on a submission"
   ],
   "metadata": {
    "collapsed": false,
    "pycharm": {
     "name": "#%% md\n"
    }
   }
  },
  {
   "cell_type": "code",
   "execution_count": 3,
   "outputs": [
    {
     "name": "stdout",
     "output_type": "stream",
     "text": [
      "env: APP_DIR=test_data\n",
      "type(lexical_item)=<class 'zerospeech.data_items.FileItem'>, type(lexical_item)=<class 'zerospeech.data_items.FileItem'>\n"
     ]
    }
   ],
   "source": [
    "%env APP_DIR=test_data\n",
    "from pathlib import Path\n",
    "from zerospeech.benchmarks.sLM_21 import SLM21Dataset, SLM21Submission\n",
    "from zerospeech.benchmarks.sLM_21.lexical import LexicalTask\n",
    "\n",
    "dataset = SLM21Dataset.load()\n",
    "submission = SLM21Submission.load(Path(\"test_data/samples/sLM21-random-submission\"), tasks=('lexical',), sets=('dev',))\n",
    "# todo: submission.is_valid()\n",
    "submission.score_dir.mkdir(exist_ok=True)\n",
    "task = LexicalTask()\n",
    "task.eval(submission, dataset)"
   ],
   "metadata": {
    "collapsed": false,
    "pycharm": {
     "name": "#%%\n"
    }
   }
  },
  {
   "cell_type": "markdown",
   "source": [
    "Semantic evaluation on a submission"
   ],
   "metadata": {
    "collapsed": false,
    "pycharm": {
     "name": "#%% md\n"
    }
   }
  },
  {
   "cell_type": "code",
   "execution_count": null,
   "outputs": [],
   "source": [
    "%env APP_DIR=test_data\n",
    "from pathlib import Path\n",
    "from zerospeech.benchmarks.sLM_21 import SLM21Dataset, SLM21Submission\n",
    "from zerospeech.benchmarks.sLM_21.semantic import SemanticTask\n",
    "\n",
    "dataset = SLM21Dataset.load()\n",
    "submission = SLM21Submission.load(Path(\"test_data/samples/sLM21-random-submission\"), tasks=('semantic',))\n",
    "# todo: submission.is_valid()\n",
    "submission.score_dir.mkdir(exist_ok=True)\n",
    "task = SemanticTask()\n",
    "task.eval(submission, dataset)"
   ],
   "metadata": {
    "collapsed": false,
    "pycharm": {
     "name": "#%%\n"
    }
   }
  },
  {
   "cell_type": "markdown",
   "source": [
    "Syntactic evaluation on a submission"
   ],
   "metadata": {
    "collapsed": false,
    "pycharm": {
     "name": "#%% md\n"
    }
   }
  },
  {
   "cell_type": "code",
   "execution_count": null,
   "outputs": [],
   "source": [
    "%env APP_DIR=test_data\n",
    "from pathlib import Path\n",
    "from zerospeech.benchmarks.sLM_21 import SLM21Dataset, SLM21Submission\n",
    "from zerospeech.benchmarks.sLM_21.syntactic import SyntacticTask\n",
    "\n",
    "dataset = SLM21Dataset.load()\n",
    "submission = SLM21Submission.load(Path(\"test_data/samples/sLM21-random-submission\"), tasks=('syntactic',))\n",
    "# todo: submission.is_valid()\n",
    "submission.score_dir.mkdir(exist_ok=True)\n",
    "task = SyntacticTask()\n",
    "task.eval(submission, dataset)"
   ],
   "metadata": {
    "collapsed": false,
    "pycharm": {
     "name": "#%%\n"
    }
   }
  }
 ],
 "metadata": {
  "kernelspec": {
   "display_name": "Python 3",
   "language": "python",
   "name": "python3"
  },
  "language_info": {
   "codemirror_mode": {
    "name": "ipython",
    "version": 2
   },
   "file_extension": ".py",
   "mimetype": "text/x-python",
   "name": "python",
   "nbconvert_exporter": "python",
   "pygments_lexer": "ipython2",
   "version": "2.7.6"
  }
 },
 "nbformat": 4,
 "nbformat_minor": 0
}