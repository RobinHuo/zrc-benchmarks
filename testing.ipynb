{
 "cells": [
  {
   "cell_type": "code",
   "execution_count": 1,
   "outputs": [
    {
     "name": "stdout",
     "output_type": "stream",
     "text": [
      "env: APP_DIR=/data/zerospeech/zrbench\n"
     ]
    }
   ],
   "source": [
    "import pandas as pd\n",
    "\n",
    "\"\"\" Testing sLM21 submission loading \"\"\"\n",
    "%env APP_DIR=/data/zerospeech/zrbench\n",
    "from pathlib import Path\n",
    "\n",
    "from zerospeech.benchmarks.sLM_21 import SLM21Submission\n",
    "\n",
    "submission1 = SLM21Submission.load(Path('/data/zerospeech/zrbench/samples/sLM21-random-submission'))"
   ],
   "metadata": {
    "collapsed": false,
    "pycharm": {
     "name": "#%%\n"
    }
   }
  },
  {
   "cell_type": "code",
   "execution_count": 2,
   "outputs": [
    {
     "name": "stdout",
     "output_type": "stream",
     "text": [
      "env: APP_DIR=/data/zerospeech/zrbench\n"
     ]
    }
   ],
   "source": [
    "\"\"\" Testing abx-LS submission loading \"\"\"\n",
    "%env APP_DIR=/data/zerospeech/zrbench\n",
    "from pathlib import Path\n",
    "\n",
    "from zerospeech.benchmarks.abx_LS import AbxLSSubmission\n",
    "\n",
    "submission2 = AbxLSSubmission.load(Path('/data/zerospeech/zrbench/samples/abxLS-random-submission/'))"
   ],
   "metadata": {
    "collapsed": false,
    "pycharm": {
     "name": "#%%\n"
    }
   }
  },
  {
   "cell_type": "code",
   "execution_count": 3,
   "outputs": [
    {
     "name": "stdout",
     "output_type": "stream",
     "text": [
      "dict_keys(['dev_clean', 'test_clean', 'dev_other', 'test_other'])\n"
     ]
    }
   ],
   "source": [
    "print(submission2.items.store.keys())"
   ],
   "metadata": {
    "collapsed": false,
    "pycharm": {
     "name": "#%%\n"
    }
   }
  },
  {
   "cell_type": "code",
   "execution_count": 9,
   "outputs": [
    {
     "name": "stdout",
     "output_type": "stream",
     "text": [
      "env: APP_DIR=/data/zerospeech/zrbench\n"
     ]
    },
    {
     "ename": "KeyboardInterrupt",
     "evalue": "",
     "output_type": "error",
     "traceback": [
      "\u001B[0;31m---------------------------------------------------------------------------\u001B[0m",
      "\u001B[0;31mKeyboardInterrupt\u001B[0m                         Traceback (most recent call last)",
      "Input \u001B[0;32mIn [9]\u001B[0m, in \u001B[0;36m<cell line: 5>\u001B[0;34m()\u001B[0m\n\u001B[1;32m      2\u001B[0m get_ipython()\u001B[38;5;241m.\u001B[39mrun_line_magic(\u001B[38;5;124m'\u001B[39m\u001B[38;5;124menv\u001B[39m\u001B[38;5;124m'\u001B[39m, \u001B[38;5;124m'\u001B[39m\u001B[38;5;124mAPP_DIR=/data/zerospeech/zrbench\u001B[39m\u001B[38;5;124m'\u001B[39m)\n\u001B[1;32m      3\u001B[0m \u001B[38;5;28;01mfrom\u001B[39;00m \u001B[38;5;21;01mzerospeech\u001B[39;00m\u001B[38;5;21;01m.\u001B[39;00m\u001B[38;5;21;01mbenchmarks\u001B[39;00m\u001B[38;5;21;01m.\u001B[39;00m\u001B[38;5;21;01msLM_21\u001B[39;00m\u001B[38;5;21;01m.\u001B[39;00m\u001B[38;5;21;01mvalidators\u001B[39;00m \u001B[38;5;28;01mimport\u001B[39;00m SLM21SubmissionValidator\n\u001B[0;32m----> 5\u001B[0m validator \u001B[38;5;241m=\u001B[39m \u001B[43mSLM21SubmissionValidator\u001B[49m\u001B[43m(\u001B[49m\u001B[43m)\u001B[49m\n\u001B[1;32m      7\u001B[0m res \u001B[38;5;241m=\u001B[39m validator\u001B[38;5;241m.\u001B[39mvalidate(submission1)\n",
      "File \u001B[0;32m~/.local/lib/pyenv/versions/zr-bench/lib/python3.9/site-packages/pydantic/main.py:339\u001B[0m, in \u001B[0;36mpydantic.main.BaseModel.__init__\u001B[0;34m()\u001B[0m\n",
      "File \u001B[0;32m~/.local/lib/pyenv/versions/zr-bench/lib/python3.9/site-packages/pydantic/main.py:1046\u001B[0m, in \u001B[0;36mpydantic.main.validate_model\u001B[0;34m()\u001B[0m\n",
      "File \u001B[0;32m~/.local/lib/pyenv/versions/zr-bench/lib/python3.9/site-packages/pydantic/fields.py:424\u001B[0m, in \u001B[0;36mpydantic.fields.ModelField.get_default\u001B[0;34m()\u001B[0m\n",
      "File \u001B[0;32m~/Seafile/workspace/coml/zerospeech/core/zerospeech-benchmarks/zerospeech/benchmarks/sLM_21/validators.py:13\u001B[0m, in \u001B[0;36mSLM21SubmissionValidator.<lambda>\u001B[0;34m()\u001B[0m\n\u001B[1;32m     11\u001B[0m \u001B[38;5;28;01mclass\u001B[39;00m \u001B[38;5;21;01mSLM21SubmissionValidator\u001B[39;00m(m_benchmark\u001B[38;5;241m.\u001B[39mSubmissionValidation):\n\u001B[1;32m     12\u001B[0m     \u001B[38;5;124;03m\"\"\" Class that contains all functions to validate a sLM21 submission \"\"\"\u001B[39;00m\n\u001B[0;32m---> 13\u001B[0m     dataset: SLM21Dataset \u001B[38;5;241m=\u001B[39m Field(default_factory\u001B[38;5;241m=\u001B[39m\u001B[38;5;28;01mlambda\u001B[39;00m: \u001B[43mSLM21Dataset\u001B[49m\u001B[38;5;241;43m.\u001B[39;49m\u001B[43mload\u001B[49m\u001B[43m(\u001B[49m\u001B[43m)\u001B[49m)\n\u001B[1;32m     15\u001B[0m     \u001B[38;5;129m@m_benchmark\u001B[39m\u001B[38;5;241m.\u001B[39mvalidation_fn(target\u001B[38;5;241m=\u001B[39m\u001B[38;5;124m'\u001B[39m\u001B[38;5;124mlexical_dev\u001B[39m\u001B[38;5;124m'\u001B[39m)\n\u001B[1;32m     16\u001B[0m     \u001B[38;5;28;01mdef\u001B[39;00m \u001B[38;5;21mvalidating_lexical_dev\u001B[39m(\u001B[38;5;28mself\u001B[39m, lexical_dev: m_data_items\u001B[38;5;241m.\u001B[39mFileItem):\n\u001B[1;32m     17\u001B[0m         additional_df_checks \u001B[38;5;241m=\u001B[39m [\n\u001B[1;32m     18\u001B[0m             \u001B[38;5;66;03m# Verify that result df has expected columns\u001B[39;00m\n\u001B[1;32m     19\u001B[0m             functools\u001B[38;5;241m.\u001B[39mpartial(\n\u001B[0;32m   (...)\u001B[0m\n\u001B[1;32m     31\u001B[0m             )\n\u001B[1;32m     32\u001B[0m         ]\n",
      "File \u001B[0;32m~/Seafile/workspace/coml/zerospeech/core/zerospeech-benchmarks/zerospeech/benchmarks/sLM_21/dataset.py:22\u001B[0m, in \u001B[0;36mSLM21Dataset.load\u001B[0;34m(cls, load_index)\u001B[0m\n\u001B[1;32m     19\u001B[0m     \u001B[38;5;28;01mraise\u001B[39;00m m_datasets\u001B[38;5;241m.\u001B[39mDatasetNotInstalledError(\u001B[38;5;124m\"\u001B[39m\u001B[38;5;124mThe sLM21-dataset is not installed locally\u001B[39m\u001B[38;5;124m\"\u001B[39m)\n\u001B[1;32m     21\u001B[0m \u001B[38;5;28;01mif\u001B[39;00m load_index:\n\u001B[0;32m---> 22\u001B[0m     \u001B[43mdataset\u001B[49m\u001B[38;5;241;43m.\u001B[39;49m\u001B[43mload_index\u001B[49m\u001B[43m(\u001B[49m\u001B[43m)\u001B[49m\n\u001B[1;32m     23\u001B[0m     \u001B[38;5;66;03m# convert all paths to absolute paths\u001B[39;00m\n\u001B[1;32m     24\u001B[0m     dataset\u001B[38;5;241m.\u001B[39mindex\u001B[38;5;241m.\u001B[39mmake_absolute()\n",
      "File \u001B[0;32m~/Seafile/workspace/coml/zerospeech/core/zerospeech-benchmarks/zerospeech/model/datasets.py:112\u001B[0m, in \u001B[0;36mDataset.load_index\u001B[0;34m(self)\u001B[0m\n\u001B[1;32m    110\u001B[0m \u001B[38;5;124;03m\"\"\" Load the dataset index \"\"\"\u001B[39;00m\n\u001B[1;32m    111\u001B[0m \u001B[38;5;28;01mwith\u001B[39;00m \u001B[38;5;28mself\u001B[39m\u001B[38;5;241m.\u001B[39mindex_path\u001B[38;5;241m.\u001B[39mopen() \u001B[38;5;28;01mas\u001B[39;00m fp:\n\u001B[0;32m--> 112\u001B[0m     \u001B[38;5;28mself\u001B[39m\u001B[38;5;241m.\u001B[39mindex \u001B[38;5;241m=\u001B[39m \u001B[43mDatasetIndex\u001B[49m\u001B[43m(\u001B[49m\u001B[43mroot_dir\u001B[49m\u001B[38;5;241;43m=\u001B[39;49m\u001B[38;5;28;43mself\u001B[39;49m\u001B[38;5;241;43m.\u001B[39;49m\u001B[43mlocation\u001B[49m\u001B[43m,\u001B[49m\u001B[43m \u001B[49m\u001B[38;5;241;43m*\u001B[39;49m\u001B[38;5;241;43m*\u001B[39;49m\u001B[43mjson\u001B[49m\u001B[38;5;241;43m.\u001B[39;49m\u001B[43mload\u001B[49m\u001B[43m(\u001B[49m\u001B[43mfp\u001B[49m\u001B[43m)\u001B[49m\u001B[43m)\u001B[49m\n",
      "File \u001B[0;32m~/.local/lib/pyenv/versions/zr-bench/lib/python3.9/site-packages/pydantic/main.py:339\u001B[0m, in \u001B[0;36mpydantic.main.BaseModel.__init__\u001B[0;34m()\u001B[0m\n",
      "File \u001B[0;32m~/.local/lib/pyenv/versions/zr-bench/lib/python3.9/site-packages/pydantic/main.py:1056\u001B[0m, in \u001B[0;36mpydantic.main.validate_model\u001B[0;34m()\u001B[0m\n",
      "File \u001B[0;32m~/.local/lib/pyenv/versions/zr-bench/lib/python3.9/site-packages/pydantic/fields.py:840\u001B[0m, in \u001B[0;36mpydantic.fields.ModelField.validate\u001B[0;34m()\u001B[0m\n",
      "File \u001B[0;32m~/.local/lib/pyenv/versions/zr-bench/lib/python3.9/site-packages/pydantic/fields.py:1121\u001B[0m, in \u001B[0;36mpydantic.fields.ModelField._apply_validators\u001B[0;34m()\u001B[0m\n",
      "File \u001B[0;32m~/.local/lib/pyenv/versions/zr-bench/lib/python3.9/site-packages/pydantic/class_validators.py:280\u001B[0m, in \u001B[0;36mpydantic.class_validators._generic_validator_cls.lambda3\u001B[0;34m()\u001B[0m\n",
      "File \u001B[0;32m~/Seafile/workspace/coml/zerospeech/core/zerospeech-benchmarks/zerospeech/model/datasets.py:83\u001B[0m, in \u001B[0;36mDatasetIndex.subsets_parse\u001B[0;34m(cls, values)\u001B[0m\n\u001B[1;32m     81\u001B[0m \u001B[38;5;129m@validator\u001B[39m(\u001B[38;5;124m\"\u001B[39m\u001B[38;5;124msubsets\u001B[39m\u001B[38;5;124m\"\u001B[39m, pre\u001B[38;5;241m=\u001B[39m\u001B[38;5;28;01mTrue\u001B[39;00m)\n\u001B[1;32m     82\u001B[0m \u001B[38;5;28;01mdef\u001B[39;00m \u001B[38;5;21msubsets_parse\u001B[39m(\u001B[38;5;28mcls\u001B[39m, values):\n\u001B[0;32m---> 83\u001B[0m     \u001B[38;5;28;01mreturn\u001B[39;00m \u001B[43mNamespace\u001B[49m\u001B[43m[\u001B[49m\u001B[43mSubset\u001B[49m\u001B[43m]\u001B[49m\u001B[43m(\u001B[49m\u001B[43mstore\u001B[49m\u001B[38;5;241;43m=\u001B[39;49m\u001B[43mvalues\u001B[49m\u001B[43m)\u001B[49m\n",
      "File \u001B[0;32m~/.local/lib/pyenv/versions/zr-bench/lib/python3.9/site-packages/pydantic/main.py:339\u001B[0m, in \u001B[0;36mpydantic.main.BaseModel.__init__\u001B[0;34m()\u001B[0m\n",
      "File \u001B[0;32m~/.local/lib/pyenv/versions/zr-bench/lib/python3.9/site-packages/pydantic/main.py:1056\u001B[0m, in \u001B[0;36mpydantic.main.validate_model\u001B[0;34m()\u001B[0m\n",
      "File \u001B[0;32m~/.local/lib/pyenv/versions/zr-bench/lib/python3.9/site-packages/pydantic/fields.py:859\u001B[0m, in \u001B[0;36mpydantic.fields.ModelField.validate\u001B[0;34m()\u001B[0m\n",
      "File \u001B[0;32m~/.local/lib/pyenv/versions/zr-bench/lib/python3.9/site-packages/pydantic/fields.py:994\u001B[0m, in \u001B[0;36mpydantic.fields.ModelField._validate_mapping_like\u001B[0;34m()\u001B[0m\n",
      "File \u001B[0;32m~/.local/lib/pyenv/versions/zr-bench/lib/python3.9/site-packages/pydantic/fields.py:1067\u001B[0m, in \u001B[0;36mpydantic.fields.ModelField._validate_singleton\u001B[0;34m()\u001B[0m\n",
      "File \u001B[0;32m~/.local/lib/pyenv/versions/zr-bench/lib/python3.9/site-packages/pydantic/fields.py:857\u001B[0m, in \u001B[0;36mpydantic.fields.ModelField.validate\u001B[0;34m()\u001B[0m\n",
      "File \u001B[0;32m~/.local/lib/pyenv/versions/zr-bench/lib/python3.9/site-packages/pydantic/fields.py:1074\u001B[0m, in \u001B[0;36mpydantic.fields.ModelField._validate_singleton\u001B[0;34m()\u001B[0m\n",
      "File \u001B[0;32m~/.local/lib/pyenv/versions/zr-bench/lib/python3.9/site-packages/pydantic/fields.py:1121\u001B[0m, in \u001B[0;36mpydantic.fields.ModelField._apply_validators\u001B[0;34m()\u001B[0m\n",
      "File \u001B[0;32m~/.local/lib/pyenv/versions/zr-bench/lib/python3.9/site-packages/pydantic/class_validators.py:313\u001B[0m, in \u001B[0;36mpydantic.class_validators._generic_validator_basic.lambda12\u001B[0;34m()\u001B[0m\n",
      "File \u001B[0;32m~/.local/lib/pyenv/versions/zr-bench/lib/python3.9/site-packages/pydantic/main.py:704\u001B[0m, in \u001B[0;36mpydantic.main.BaseModel.validate\u001B[0;34m()\u001B[0m\n",
      "File \u001B[0;32m~/.local/lib/pyenv/versions/zr-bench/lib/python3.9/site-packages/pydantic/main.py:339\u001B[0m, in \u001B[0;36mpydantic.main.BaseModel.__init__\u001B[0;34m()\u001B[0m\n",
      "File \u001B[0;32m~/.local/lib/pyenv/versions/zr-bench/lib/python3.9/site-packages/pydantic/main.py:1056\u001B[0m, in \u001B[0;36mpydantic.main.validate_model\u001B[0;34m()\u001B[0m\n",
      "File \u001B[0;32m~/.local/lib/pyenv/versions/zr-bench/lib/python3.9/site-packages/pydantic/fields.py:840\u001B[0m, in \u001B[0;36mpydantic.fields.ModelField.validate\u001B[0;34m()\u001B[0m\n",
      "File \u001B[0;32m~/.local/lib/pyenv/versions/zr-bench/lib/python3.9/site-packages/pydantic/fields.py:1121\u001B[0m, in \u001B[0;36mpydantic.fields.ModelField._apply_validators\u001B[0;34m()\u001B[0m\n",
      "File \u001B[0;32m~/.local/lib/pyenv/versions/zr-bench/lib/python3.9/site-packages/pydantic/class_validators.py:280\u001B[0m, in \u001B[0;36mpydantic.class_validators._generic_validator_cls.lambda3\u001B[0;34m()\u001B[0m\n",
      "File \u001B[0;32m~/Seafile/workspace/coml/zerospeech/core/zerospeech-benchmarks/zerospeech/model/datasets.py:56\u001B[0m, in \u001B[0;36mSubset.items_parse\u001B[0;34m(cls, values)\u001B[0m\n\u001B[1;32m     54\u001B[0m item_type \u001B[38;5;241m=\u001B[39m ItemType(v\u001B[38;5;241m.\u001B[39mget(\u001B[38;5;124m'\u001B[39m\u001B[38;5;124mitem_type\u001B[39m\u001B[38;5;124m'\u001B[39m, \u001B[38;5;124m\"\u001B[39m\u001B[38;5;124mbase_item\u001B[39m\u001B[38;5;124m\"\u001B[39m))\n\u001B[1;32m     55\u001B[0m \u001B[38;5;28;01mif\u001B[39;00m item_type \u001B[38;5;241m==\u001B[39m ItemType\u001B[38;5;241m.\u001B[39mfilelist_item:\n\u001B[0;32m---> 56\u001B[0m     casted_items[k] \u001B[38;5;241m=\u001B[39m \u001B[43mFileListItem\u001B[49m\u001B[38;5;241;43m.\u001B[39;49m\u001B[43mparse_obj\u001B[49m\u001B[43m(\u001B[49m\u001B[43mv\u001B[49m\u001B[43m)\u001B[49m\n\u001B[1;32m     57\u001B[0m \u001B[38;5;28;01melif\u001B[39;00m item_type \u001B[38;5;241m==\u001B[39m ItemType\u001B[38;5;241m.\u001B[39mfile_item:\n\u001B[1;32m     58\u001B[0m     casted_items[k] \u001B[38;5;241m=\u001B[39m FileItem\u001B[38;5;241m.\u001B[39mparse_obj(v)\n",
      "File \u001B[0;32m~/.local/lib/pyenv/versions/zr-bench/lib/python3.9/site-packages/pydantic/main.py:521\u001B[0m, in \u001B[0;36mpydantic.main.BaseModel.parse_obj\u001B[0;34m()\u001B[0m\n",
      "File \u001B[0;32m~/.local/lib/pyenv/versions/zr-bench/lib/python3.9/site-packages/pydantic/main.py:339\u001B[0m, in \u001B[0;36mpydantic.main.BaseModel.__init__\u001B[0;34m()\u001B[0m\n",
      "File \u001B[0;32m~/.local/lib/pyenv/versions/zr-bench/lib/python3.9/site-packages/pydantic/main.py:1056\u001B[0m, in \u001B[0;36mpydantic.main.validate_model\u001B[0;34m()\u001B[0m\n",
      "File \u001B[0;32m~/.local/lib/pyenv/versions/zr-bench/lib/python3.9/site-packages/pydantic/fields.py:868\u001B[0m, in \u001B[0;36mpydantic.fields.ModelField.validate\u001B[0;34m()\u001B[0m\n",
      "File \u001B[0;32m~/.local/lib/pyenv/versions/zr-bench/lib/python3.9/site-packages/pydantic/fields.py:901\u001B[0m, in \u001B[0;36mpydantic.fields.ModelField._validate_sequence_like\u001B[0;34m()\u001B[0m\n",
      "File \u001B[0;32m~/.local/lib/pyenv/versions/zr-bench/lib/python3.9/site-packages/pydantic/fields.py:1067\u001B[0m, in \u001B[0;36mpydantic.fields.ModelField._validate_singleton\u001B[0;34m()\u001B[0m\n",
      "File \u001B[0;32m~/.local/lib/pyenv/versions/zr-bench/lib/python3.9/site-packages/pydantic/fields.py:857\u001B[0m, in \u001B[0;36mpydantic.fields.ModelField.validate\u001B[0;34m()\u001B[0m\n",
      "File \u001B[0;32m~/.local/lib/pyenv/versions/zr-bench/lib/python3.9/site-packages/pydantic/fields.py:1074\u001B[0m, in \u001B[0;36mpydantic.fields.ModelField._validate_singleton\u001B[0;34m()\u001B[0m\n",
      "File \u001B[0;32m~/.local/lib/pyenv/versions/zr-bench/lib/python3.9/site-packages/pydantic/fields.py:1121\u001B[0m, in \u001B[0;36mpydantic.fields.ModelField._apply_validators\u001B[0;34m()\u001B[0m\n",
      "File \u001B[0;32m~/.local/lib/pyenv/versions/zr-bench/lib/python3.9/site-packages/pydantic/class_validators.py:313\u001B[0m, in \u001B[0;36mpydantic.class_validators._generic_validator_basic.lambda12\u001B[0;34m()\u001B[0m\n",
      "File \u001B[0;32m~/.local/lib/pyenv/versions/zr-bench/lib/python3.9/site-packages/pydantic/validators.py:414\u001B[0m, in \u001B[0;36mpydantic.validators.path_validator\u001B[0;34m()\u001B[0m\n",
      "File \u001B[0;32m~/.local/lib/pyenv/versions/3.9.7/lib/python3.9/pathlib.py:1082\u001B[0m, in \u001B[0;36mPath.__new__\u001B[0;34m(cls, *args, **kwargs)\u001B[0m\n\u001B[1;32m   1080\u001B[0m \u001B[38;5;28;01mif\u001B[39;00m \u001B[38;5;28mcls\u001B[39m \u001B[38;5;129;01mis\u001B[39;00m Path:\n\u001B[1;32m   1081\u001B[0m     \u001B[38;5;28mcls\u001B[39m \u001B[38;5;241m=\u001B[39m WindowsPath \u001B[38;5;28;01mif\u001B[39;00m os\u001B[38;5;241m.\u001B[39mname \u001B[38;5;241m==\u001B[39m \u001B[38;5;124m'\u001B[39m\u001B[38;5;124mnt\u001B[39m\u001B[38;5;124m'\u001B[39m \u001B[38;5;28;01melse\u001B[39;00m PosixPath\n\u001B[0;32m-> 1082\u001B[0m \u001B[38;5;28mself\u001B[39m \u001B[38;5;241m=\u001B[39m \u001B[38;5;28;43mcls\u001B[39;49m\u001B[38;5;241;43m.\u001B[39;49m\u001B[43m_from_parts\u001B[49m\u001B[43m(\u001B[49m\u001B[43margs\u001B[49m\u001B[43m,\u001B[49m\u001B[43m \u001B[49m\u001B[43minit\u001B[49m\u001B[38;5;241;43m=\u001B[39;49m\u001B[38;5;28;43;01mFalse\u001B[39;49;00m\u001B[43m)\u001B[49m\n\u001B[1;32m   1083\u001B[0m \u001B[38;5;28;01mif\u001B[39;00m \u001B[38;5;129;01mnot\u001B[39;00m \u001B[38;5;28mself\u001B[39m\u001B[38;5;241m.\u001B[39m_flavour\u001B[38;5;241m.\u001B[39mis_supported:\n\u001B[1;32m   1084\u001B[0m     \u001B[38;5;28;01mraise\u001B[39;00m \u001B[38;5;167;01mNotImplementedError\u001B[39;00m(\u001B[38;5;124m\"\u001B[39m\u001B[38;5;124mcannot instantiate \u001B[39m\u001B[38;5;132;01m%r\u001B[39;00m\u001B[38;5;124m on your system\u001B[39m\u001B[38;5;124m\"\u001B[39m\n\u001B[1;32m   1085\u001B[0m                               \u001B[38;5;241m%\u001B[39m (\u001B[38;5;28mcls\u001B[39m\u001B[38;5;241m.\u001B[39m\u001B[38;5;18m__name__\u001B[39m,))\n",
      "File \u001B[0;32m~/.local/lib/pyenv/versions/3.9.7/lib/python3.9/pathlib.py:707\u001B[0m, in \u001B[0;36mPurePath._from_parts\u001B[0;34m(cls, args, init)\u001B[0m\n\u001B[1;32m    702\u001B[0m \u001B[38;5;129m@classmethod\u001B[39m\n\u001B[1;32m    703\u001B[0m \u001B[38;5;28;01mdef\u001B[39;00m \u001B[38;5;21m_from_parts\u001B[39m(\u001B[38;5;28mcls\u001B[39m, args, init\u001B[38;5;241m=\u001B[39m\u001B[38;5;28;01mTrue\u001B[39;00m):\n\u001B[1;32m    704\u001B[0m     \u001B[38;5;66;03m# We need to call _parse_args on the instance, so as to get the\u001B[39;00m\n\u001B[1;32m    705\u001B[0m     \u001B[38;5;66;03m# right flavour.\u001B[39;00m\n\u001B[1;32m    706\u001B[0m     \u001B[38;5;28mself\u001B[39m \u001B[38;5;241m=\u001B[39m \u001B[38;5;28mobject\u001B[39m\u001B[38;5;241m.\u001B[39m\u001B[38;5;21m__new__\u001B[39m(\u001B[38;5;28mcls\u001B[39m)\n\u001B[0;32m--> 707\u001B[0m     drv, root, parts \u001B[38;5;241m=\u001B[39m \u001B[38;5;28;43mself\u001B[39;49m\u001B[38;5;241;43m.\u001B[39;49m\u001B[43m_parse_args\u001B[49m\u001B[43m(\u001B[49m\u001B[43margs\u001B[49m\u001B[43m)\u001B[49m\n\u001B[1;32m    708\u001B[0m     \u001B[38;5;28mself\u001B[39m\u001B[38;5;241m.\u001B[39m_drv \u001B[38;5;241m=\u001B[39m drv\n\u001B[1;32m    709\u001B[0m     \u001B[38;5;28mself\u001B[39m\u001B[38;5;241m.\u001B[39m_root \u001B[38;5;241m=\u001B[39m root\n",
      "File \u001B[0;32m~/.local/lib/pyenv/versions/3.9.7/lib/python3.9/pathlib.py:700\u001B[0m, in \u001B[0;36mPurePath._parse_args\u001B[0;34m(cls, args)\u001B[0m\n\u001B[1;32m    695\u001B[0m         \u001B[38;5;28;01melse\u001B[39;00m:\n\u001B[1;32m    696\u001B[0m             \u001B[38;5;28;01mraise\u001B[39;00m \u001B[38;5;167;01mTypeError\u001B[39;00m(\n\u001B[1;32m    697\u001B[0m                 \u001B[38;5;124m\"\u001B[39m\u001B[38;5;124margument should be a str object or an os.PathLike \u001B[39m\u001B[38;5;124m\"\u001B[39m\n\u001B[1;32m    698\u001B[0m                 \u001B[38;5;124m\"\u001B[39m\u001B[38;5;124mobject returning str, not \u001B[39m\u001B[38;5;132;01m%r\u001B[39;00m\u001B[38;5;124m\"\u001B[39m\n\u001B[1;32m    699\u001B[0m                 \u001B[38;5;241m%\u001B[39m \u001B[38;5;28mtype\u001B[39m(a))\n\u001B[0;32m--> 700\u001B[0m \u001B[38;5;28;01mreturn\u001B[39;00m \u001B[38;5;28;43mcls\u001B[39;49m\u001B[38;5;241;43m.\u001B[39;49m\u001B[43m_flavour\u001B[49m\u001B[38;5;241;43m.\u001B[39;49m\u001B[43mparse_parts\u001B[49m\u001B[43m(\u001B[49m\u001B[43mparts\u001B[49m\u001B[43m)\u001B[49m\n",
      "File \u001B[0;32m~/.local/lib/pyenv/versions/3.9.7/lib/python3.9/pathlib.py:79\u001B[0m, in \u001B[0;36m_Flavour.parse_parts\u001B[0;34m(self, parts)\u001B[0m\n\u001B[1;32m     77\u001B[0m     \u001B[38;5;28;01mfor\u001B[39;00m x \u001B[38;5;129;01min\u001B[39;00m \u001B[38;5;28mreversed\u001B[39m(rel\u001B[38;5;241m.\u001B[39msplit(sep)):\n\u001B[1;32m     78\u001B[0m         \u001B[38;5;28;01mif\u001B[39;00m x \u001B[38;5;129;01mand\u001B[39;00m x \u001B[38;5;241m!=\u001B[39m \u001B[38;5;124m'\u001B[39m\u001B[38;5;124m.\u001B[39m\u001B[38;5;124m'\u001B[39m:\n\u001B[0;32m---> 79\u001B[0m             parsed\u001B[38;5;241m.\u001B[39mappend(\u001B[43msys\u001B[49m\u001B[38;5;241;43m.\u001B[39;49m\u001B[43mintern\u001B[49m\u001B[43m(\u001B[49m\u001B[43mx\u001B[49m\u001B[43m)\u001B[49m)\n\u001B[1;32m     80\u001B[0m \u001B[38;5;28;01melse\u001B[39;00m:\n\u001B[1;32m     81\u001B[0m     \u001B[38;5;28;01mif\u001B[39;00m rel \u001B[38;5;129;01mand\u001B[39;00m rel \u001B[38;5;241m!=\u001B[39m \u001B[38;5;124m'\u001B[39m\u001B[38;5;124m.\u001B[39m\u001B[38;5;124m'\u001B[39m:\n",
      "\u001B[0;31mKeyboardInterrupt\u001B[0m: "
     ]
    }
   ],
   "source": [
    "\"\"\" Test validation of sLM21 \"\"\"\n",
    "%env APP_DIR=/data/zerospeech/zrbench\n",
    "from zerospeech.benchmarks.sLM_21.validators import SLM21SubmissionValidator\n",
    "\n",
    "validator = SLM21SubmissionValidator()\n",
    "\n",
    "res = validator.validate(submission1)"
   ],
   "metadata": {
    "collapsed": false,
    "pycharm": {
     "name": "#%%\n"
    }
   }
  },
  {
   "cell_type": "code",
   "execution_count": null,
   "outputs": [],
   "source": [
    "\"\"\" Test implementation of functions with internal state \"\"\"\n",
    "import random\n",
    "from typing import List\n",
    "\n",
    "\n",
    "def length_comparison(dim: int):\n",
    "    data = dict(ncols=[], col_len=1)\n",
    "\n",
    "    def comparison(array: List[str]):\n",
    "        data['ncols'].append(len(array))\n",
    "        res = []\n",
    "\n",
    "        if len(set(data['ncols'])) != 1:\n",
    "            print(f\"found error {len(set(data['ncols']))}\")\n",
    "            res = ['error']\n",
    "        return res\n",
    "\n",
    "    return comparison\n",
    "\n",
    "\n",
    "test_1 = [[random.randint(1, 30) for _ in range(100)] for _ in range(50)]\n",
    "test_2 = [[random.randint(1, 30) for _ in range(100)] for _ in range(50)]\n",
    "\n",
    "# add two at random\n",
    "test_2[29].append(random.randint(1, 30))\n",
    "test_2[19].append(random.randint(1, 30))\n",
    "\n",
    "comp1 = length_comparison(2)\n",
    "comp2 = length_comparison(2)\n",
    "\n",
    "results1 = []\n",
    "results2 = []\n",
    "for i1, i2 in zip(test_1, test_2):\n",
    "    results1.extend(comp1(i1))\n",
    "    results2.extend(comp2(i2))\n",
    "\n",
    "print(results1)\n",
    "print(results2)"
   ],
   "metadata": {
    "collapsed": false,
    "pycharm": {
     "name": "#%%\n"
    }
   }
  },
  {
   "cell_type": "code",
   "execution_count": null,
   "outputs": [],
   "source": [
    "\"\"\" Testing loading of scores dir and exporting into leaderboard \"\"\"\n",
    "%env APP_DIR=/data/zerospeech/zrbench\n",
    "from zerospeech.benchmarks import sLM_21\n",
    "from pathlib import Path\n",
    "import pandas as pd\n",
    "from rich.console import Console\n",
    "from rich import pretty\n",
    "pretty.install()\n",
    "\n",
    "\n",
    "con = Console()\n",
    "\n",
    "params = sLM_21.SLM21BenchmarkParameters()\n",
    "dataset = sLM_21.SLM21Dataset.load()\n",
    "\n",
    "dev_size = pd.read_csv(dataset.index.subsets.semantic_dev.items.pairs.file, header=0)\\\n",
    "    .groupby(['type', 'dataset'], as_index=False).size()\n",
    "test_size = pd.read_csv(dataset.index.subsets.semantic_test.items.pairs.file, header=0)\\\n",
    "    .groupby(['type', 'dataset'], as_index=False).size()\n",
    "\n",
    "\n",
    "scores = sLM_21.SLM21ScoreDir(\n",
    "    location=Path('sLM-scores'),\n",
    "    output_files=dict(\n",
    "        lexical=params.lexical.result_filenames,\n",
    "        syntactic=params.syntactic.result_filenames,\n",
    "        semantic=params.semantic.result_filenames\n",
    "    ),\n",
    "    semantic_size=dict(dev=dev_size, test=test_size)\n",
    ")\n",
    "\n",
    "with con.status(\"Building leaderboard...\", spinner=\"aesthetic\"):\n",
    "    led = scores.build_leaderboard()\n",
    "\n",
    "with scores.leaderboard_file.open('w') as fp:\n",
    "    fp.write(led.json(indent=4))\n",
    "\n",
    "print(\"Leaderboard generated successfully\")\n",
    "# d = dict(led._iter(to_dict=True))"
   ],
   "metadata": {
    "collapsed": false,
    "pycharm": {
     "name": "#%%\n"
    }
   }
  }
 ],
 "metadata": {
  "kernelspec": {
   "display_name": "Python 3",
   "language": "python",
   "name": "python3"
  },
  "language_info": {
   "codemirror_mode": {
    "name": "ipython",
    "version": 2
   },
   "file_extension": ".py",
   "mimetype": "text/x-python",
   "name": "python",
   "nbconvert_exporter": "python",
   "pygments_lexer": "ipython2",
   "version": "2.7.6"
  }
 },
 "nbformat": 4,
 "nbformat_minor": 0
}