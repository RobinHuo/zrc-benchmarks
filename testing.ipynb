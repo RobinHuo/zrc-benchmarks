{
 "cells": [
  {
   "cell_type": "code",
   "execution_count": 33,
   "outputs": [
    {
     "name": "stdout",
     "output_type": "stream",
     "text": [
      "env: APP_DIR=/data/zerospeech/zrbench\n"
     ]
    }
   ],
   "source": [
    "%env APP_DIR=/data/zerospeech/zrbench\n",
    "from pathlib import Path\n",
    "from zerospeech.benchmarks.sLM_21 import SLM21Submission\n",
    "from zerospeech.benchmarks.sLM_21.validators import SLM21SubmissionValidator\n",
    "\n",
    "submission = SLM21Submission.load(Path('/data/zerospeech/zrbench/samples/sLM21-random-submission'))\n",
    "\n",
    "validator = SLM21SubmissionValidator()\n",
    "\n",
    "res = validator.validate(submission)"
   ],
   "metadata": {
    "collapsed": false,
    "pycharm": {
     "name": "#%%\n"
    }
   }
  },
  {
   "cell_type": "code",
   "execution_count": 34,
   "outputs": [
    {
     "name": "stdout",
     "output_type": "stream",
     "text": [
      "env: APP_DIR=/data/zerospeech/zrbench\n",
      "ValidationOK(lexical_dev): dataframe validates tests\n",
      "ValidationOK(lexical_dev): expected files found\n",
      "ValidationOK(lexical_test): dataframe validates tests\n",
      "ValidationOK(lexical_test): expected files found\n"
     ]
    }
   ],
   "source": [
    "%env APP_DIR=/data/zerospeech/zrbench\n",
    "from zerospeech.benchmarks.validation import show_errors\n",
    "\n",
    "for r in res:\n",
    "    print(r)\n",
    "#\n",
    "# print('-'*20)\n",
    "# print(f\"{str(res[1])} -> {len(res[1].data)}\")\n",
    "# print(len(validator.dataset.index.subsets.lexical_dev.items.wav_list.files_list))\n",
    "# print('-'*20)\n",
    "# # print(res[1].data)"
   ],
   "metadata": {
    "collapsed": false,
    "pycharm": {
     "name": "#%%\n"
    }
   }
  }
 ],
 "metadata": {
  "kernelspec": {
   "display_name": "Python 3",
   "language": "python",
   "name": "python3"
  },
  "language_info": {
   "codemirror_mode": {
    "name": "ipython",
    "version": 2
   },
   "file_extension": ".py",
   "mimetype": "text/x-python",
   "name": "python",
   "nbconvert_exporter": "python",
   "pygments_lexer": "ipython2",
   "version": "2.7.6"
  }
 },
 "nbformat": 4,
 "nbformat_minor": 0
}